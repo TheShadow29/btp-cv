{
 "cells": [
  {
   "cell_type": "code",
   "execution_count": 1,
   "metadata": {
    "collapsed": true
   },
   "outputs": [],
   "source": [
    "%reload_ext autoreload\n",
    "%autoreload 2\n",
    "%matplotlib inline\n",
    "\n",
    "\n",
    "import wfdb\n",
    "import pandas as pd\n",
    "import matplotlib.pyplot as plt\n",
    "import preproc_ecg as pecg\n",
    "import numpy as np\n",
    "\n",
    "ptb_tdir = '../../ecg_data/'\n",
    "ptb_ptdir = ptb_tdir + 'patient_data/'\n",
    "\n",
    "records = pd.read_csv(ptb_tdir + 'records.txt', header=None)\n",
    "controls = pd.read_csv(ptb_tdir + 'control.txt', header=None)"
   ]
  },
  {
   "cell_type": "code",
   "execution_count": null,
   "metadata": {
    "collapsed": true
   },
   "outputs": [],
   "source": []
  }
 ],
 "metadata": {
  "kernelspec": {
   "display_name": "Python 3",
   "language": "python",
   "name": "python3"
  },
  "language_info": {
   "codemirror_mode": {
    "name": "ipython",
    "version": 3
   },
   "file_extension": ".py",
   "mimetype": "text/x-python",
   "name": "python",
   "nbconvert_exporter": "python",
   "pygments_lexer": "ipython3",
   "version": "3.5.3"
  }
 },
 "nbformat": 4,
 "nbformat_minor": 2
}
