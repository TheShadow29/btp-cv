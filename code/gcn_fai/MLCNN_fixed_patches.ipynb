{
 "cells": [
  {
   "cell_type": "code",
   "execution_count": 1,
   "metadata": {},
   "outputs": [],
   "source": [
    "from all_imports import *"
   ]
  },
  {
   "cell_type": "code",
   "execution_count": 2,
   "metadata": {},
   "outputs": [],
   "source": [
    "%reload_ext autoreload\n",
    "%autoreload 2\n",
    "%matplotlib inline"
   ]
  },
  {
   "cell_type": "code",
   "execution_count": 3,
   "metadata": {},
   "outputs": [],
   "source": [
    "from ptbds import *"
   ]
  },
  {
   "cell_type": "code",
   "execution_count": 4,
   "metadata": {},
   "outputs": [],
   "source": [
    "from nets import *"
   ]
  },
  {
   "cell_type": "code",
   "execution_count": 5,
   "metadata": {},
   "outputs": [
    {
     "data": {
      "text/plain": [
       "([<fastai.transforms.Normalize object at 0x7fcbb1034860>, <ptbds.ChannelOrder1d object at 0x7fcbb10349e8>],\n",
       " [<fastai.transforms.Normalize object at 0x7fcbb1034860>, <ptbds.ChannelOrder1d object at 0x7fcbb1034978>])"
      ]
     },
     "execution_count": 5,
     "metadata": {},
     "output_type": "execute_result"
    }
   ],
   "source": [
    "tfms"
   ]
  },
  {
   "cell_type": "code",
   "execution_count": 11,
   "metadata": {},
   "outputs": [],
   "source": [
    "def actual_acc(preds, targs):\n",
    "    preds = torch.max(preds, dim=1)[1]\n",
    "    corr = 0\n",
    "    tot = 0\n",
    "    for j in np.arange(0, len(preds), 50):\n",
    "        acc1 = (preds==targs).float().mean()\n",
    "        if acc1 >= 0.5:\n",
    "            corr += 1\n",
    "        tot += 1\n",
    "    return corr / tot"
   ]
  },
  {
   "cell_type": "code",
   "execution_count": 19,
   "metadata": {},
   "outputs": [],
   "source": [
    "snt_mdl = get_senet_small()\n",
    "\n",
    "learn = ConvLearner.from_model_data(snt_mdl, data)"
   ]
  },
  {
   "cell_type": "code",
   "execution_count": 17,
   "metadata": {},
   "outputs": [
    {
     "data": {
      "application/vnd.jupyter.widget-view+json": {
       "model_id": "5f18f039013a49349c9fbbe99008d955",
       "version_major": 2,
       "version_minor": 0
      },
      "text/plain": [
       "HBox(children=(IntProgress(value=0, description='Epoch', max=1), HTML(value='')))"
      ]
     },
     "metadata": {},
     "output_type": "display_data"
    },
    {
     "name": "stdout",
     "output_type": "stream",
     "text": [
      " 90%|█████████ | 152/168 [00:11<00:01, 12.67it/s, loss=0.515]\n",
      "                                                             \r"
     ]
    }
   ],
   "source": [
    "learn.lr_find()"
   ]
  },
  {
   "cell_type": "code",
   "execution_count": 22,
   "metadata": {},
   "outputs": [],
   "source": [
    "x, y = next(iter(data.val_dl))"
   ]
  },
  {
   "cell_type": "code",
   "execution_count": 23,
   "metadata": {},
   "outputs": [
    {
     "data": {
      "text/plain": [
       "torch.Size([16, 15, 149])"
      ]
     },
     "execution_count": 23,
     "metadata": {},
     "output_type": "execute_result"
    }
   ],
   "source": [
    "x.shape"
   ]
  },
  {
   "cell_type": "code",
   "execution_count": 18,
   "metadata": {},
   "outputs": [
    {
     "data": {
      "image/png": "[encoded data removed]",
      "text/plain": [
       "<Figure size 432x288 with 1 Axes>"
      ]
     },
     "metadata": {},
     "output_type": "display_data"
    }
   ],
   "source": [
    "learn.sched.plot()"
   ]
  },
  {
   "cell_type": "code",
   "execution_count": 21,
   "metadata": {},
   "outputs": [
    {
     "data": {
      "application/vnd.jupyter.widget-view+json": {
       "model_id": "ca795244d31946c9a18f17ef862bb5d6",
       "version_major": 2,
       "version_minor": 0
      },
      "text/plain": [
       "HBox(children=(IntProgress(value=0, description='Epoch', max=20), HTML(value='')))"
      ]
     },
     "metadata": {},
     "output_type": "display_data"
    },
    {
     "name": "stdout",
     "output_type": "stream",
     "text": [
      "epoch      trn_loss   val_loss   accuracy   actual_acc        \n",
      "    0      0.072441   0.308208   0.915952   0.912381  \n",
      "    1      0.07266    0.278009   0.943571   0.946667          \n",
      "    2      0.056093   0.331874   0.93381    0.939048          \n",
      "    3      0.051259   0.349431   0.93119    0.931429          \n",
      "    4      0.05018    0.38464    0.928571   0.931429          \n",
      "    5      0.053966   0.328896   0.931429   0.931429          \n",
      "    6      0.05597    0.37056    0.932143   0.942857          \n",
      "    7      0.04146    0.375775   0.92619    0.927619          \n",
      "    8      0.036133   0.363199   0.930476   0.931429          \n",
      "    9      0.032318   0.391276   0.928571   0.935238          \n",
      "    10     0.07041    0.314672   0.925952   0.931429          \n",
      "    11     0.057278   0.372474   0.923095   0.931429          \n",
      "    12     0.042926   0.318374   0.927143   0.931429          \n",
      "    13     0.043646   0.405414   0.92119    0.931429          \n",
      "    14     0.041953   0.420477   0.928333   0.931429          \n",
      "    15     0.032263   0.416578   0.92881    0.931429          \n",
      "    16     0.031987   0.415064   0.929048   0.931429          \n",
      "    17     0.023691   0.390134   0.930476   0.931429          \n",
      "    18     0.018828   0.401088   0.921429   0.927619          \n",
      "    19     0.023953   0.394057   0.92381    0.927619          \n",
      "\n"
     ]
    },
    {
     "data": {
      "text/plain": [
       "[array([0.39406]), 0.9238095238095239, 0.9276190476190476]"
      ]
     },
     "execution_count": 21,
     "metadata": {},
     "output_type": "execute_result"
    }
   ],
   "source": [
    "learn.fit(1e-1, 2, cycle_len=10, best_save_name='mlcnn3_ecg1', metrics=[accuracy, actual_acc])"
   ]
  },
  {
   "cell_type": "code",
   "execution_count": null,
   "metadata": {},
   "outputs": [],
   "source": [
    "%debug"
   ]
  },
  {
   "cell_type": "code",
   "execution_count": null,
   "metadata": {},
   "outputs": [],
   "source": [
    "get_scores(learn)"
   ]
  },
  {
   "cell_type": "code",
   "execution_count": null,
   "metadata": {},
   "outputs": [],
   "source": [
    "learn.load('mlcnn_ecg1')"
   ]
  },
  {
   "cell_type": "code",
   "execution_count": null,
   "metadata": {},
   "outputs": [],
   "source": [
    "get_scores(learn)"
   ]
  }
 ],
 "metadata": {
  "kernelspec": {
   "display_name": "Python 3",
   "language": "python",
   "name": "python3"
  },
  "language_info": {
   "codemirror_mode": {
    "name": "ipython",
    "version": 3
   },
   "file_extension": ".py",
   "mimetype": "text/x-python",
   "name": "python",
   "nbconvert_exporter": "python",
   "pygments_lexer": "ipython3",
   "version": "3.6.5"
  }
 },
 "nbformat": 4,
 "nbformat_minor": 2
}
