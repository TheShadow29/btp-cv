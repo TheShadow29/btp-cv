{
 "cells": [
  {
   "cell_type": "code",
   "execution_count": 1,
   "metadata": {},
   "outputs": [],
   "source": [
    "from all_imports import *"
   ]
  },
  {
   "cell_type": "code",
   "execution_count": 2,
   "metadata": {},
   "outputs": [],
   "source": [
    "%reload_ext autoreload\n",
    "%autoreload 2\n",
    "%matplotlib inline"
   ]
  },
  {
   "cell_type": "code",
   "execution_count": 3,
   "metadata": {},
   "outputs": [],
   "source": [
    "from ptbds import *"
   ]
  },
  {
   "cell_type": "code",
   "execution_count": 4,
   "metadata": {},
   "outputs": [],
   "source": [
    "from nets import *"
   ]
  },
  {
   "cell_type": "code",
   "execution_count": 5,
   "metadata": {},
   "outputs": [
    {
     "data": {
      "text/plain": [
       "([<fastai.transforms.Normalize object at 0x7fcbb1034860>, <ptbds.ChannelOrder1d object at 0x7fcbb10349e8>],\n",
       " [<fastai.transforms.Normalize object at 0x7fcbb1034860>, <ptbds.ChannelOrder1d object at 0x7fcbb1034978>])"
      ]
     },
     "execution_count": 5,
     "metadata": {},
     "output_type": "execute_result"
    }
   ],
   "source": [
    "tfms"
   ]
  },
  {
   "cell_type": "code",
   "execution_count": 11,
   "metadata": {},
   "outputs": [],
   "source": [
    "def actual_acc(preds, targs):\n",
    "    preds = torch.max(preds, dim=1)[1]\n",
    "    corr = 0\n",
    "    tot = 0\n",
    "    for j in np.arange(0, len(preds), 50):\n",
    "        acc1 = (preds==targs).float().mean()\n",
    "        if acc1 >= 0.5:\n",
    "            corr += 1\n",
    "        tot += 1\n",
    "    return corr / tot"
   ]
  },
  {
   "cell_type": "code",
   "execution_count": 16,
   "metadata": {},
   "outputs": [],
   "source": [
    "snt_mdl = get_senet_small()\n",
    "\n",
    "learn = ConvLearner.from_model_data(snt_mdl, data)"
   ]
  },
  {
   "cell_type": "code",
   "execution_count": 17,
   "metadata": {},
   "outputs": [
    {
     "data": {
      "application/vnd.jupyter.widget-view+json": {
       "model_id": "5f18f039013a49349c9fbbe99008d955",
       "version_major": 2,
       "version_minor": 0
      },
      "text/plain": [
       "HBox(children=(IntProgress(value=0, description='Epoch', max=1), HTML(value='')))"
      ]
     },
     "metadata": {},
     "output_type": "display_data"
    },
    {
     "name": "stdout",
     "output_type": "stream",
     "text": [
      " 90%|█████████ | 152/168 [00:11<00:01, 12.67it/s, loss=0.515]\n",
      "                                                             \r"
     ]
    }
   ],
   "source": [
    "learn.lr_find()"
   ]
  },
  {
   "cell_type": "code",
   "execution_count": null,
   "metadata": {},
   "outputs": [],
   "source": [
    "learn.sched.plot()"
   ]
  },
  {
   "cell_type": "code",
   "execution_count": 15,
   "metadata": {},
   "outputs": [
    {
     "data": {
      "application/vnd.jupyter.widget-view+json": {
       "model_id": "4d6c08f697d94ce6a1a2db645b23d97e",
       "version_major": 2,
       "version_minor": 0
      },
      "text/plain": [
       "HBox(children=(IntProgress(value=0, description='Epoch', max=20), HTML(value='')))"
      ]
     },
     "metadata": {},
     "output_type": "display_data"
    },
    {
     "name": "stdout",
     "output_type": "stream",
     "text": [
      "epoch      trn_loss   val_loss   accuracy   actual_acc       \n",
      "    0      0.44664    0.394649   0.833333   0.83619   \n",
      "    1      0.253701   0.325743   0.861667   0.859048         \n",
      "    2      0.16851    0.286035   0.893333   0.912381         \n",
      "    3      0.131092   0.720879   0.86881    0.870476         \n",
      "    4      0.106322   0.103542   0.960238   0.969524         \n",
      "    5      0.081431   0.144771   0.965476   0.977143          \n",
      "    6      0.061588   0.194017   0.952857   0.958095          \n",
      "    7      0.047883   0.196921   0.945952   0.954286          \n",
      "    8      0.025046   0.197632   0.952857   0.954286          \n",
      "    9      0.022703   0.193233   0.950476   0.958095          \n",
      "    10     0.141878   0.231116   0.918095   0.931429         \n",
      "    11     0.113791   0.893203   0.658571   0.68381          \n",
      "    12     0.112103   0.194172   0.928333   0.942857          \n",
      "    13     0.069465   0.190143   0.921429   0.931429          \n",
      "    14     0.037677   0.372395   0.924048   0.927619          \n",
      "    15     0.021161   0.361798   0.937619   0.942857          \n",
      "    16     0.026656   0.370031   0.93       0.931429          \n",
      "    17     0.028679   0.39753    0.930952   0.939048          \n",
      "    18     0.017426   0.391155   0.931905   0.942857           \n",
      "    19     0.016994   0.393871   0.930714   0.939048          \n",
      "\n"
     ]
    },
    {
     "data": {
      "text/plain": [
       "[array([0.39387]), 0.9307142857142857, 0.939047619047619]"
      ]
     },
     "execution_count": 15,
     "metadata": {},
     "output_type": "execute_result"
    }
   ],
   "source": [
    "learn.fit(1e-1, 2, cycle_len=10, best_save_name='mlcnn3_ecg1', metrics=[accuracy, actual_acc])"
   ]
  },
  {
   "cell_type": "code",
   "execution_count": null,
   "metadata": {},
   "outputs": [],
   "source": [
    "%debug"
   ]
  },
  {
   "cell_type": "code",
   "execution_count": null,
   "metadata": {},
   "outputs": [],
   "source": [
    "get_scores(learn)"
   ]
  },
  {
   "cell_type": "code",
   "execution_count": null,
   "metadata": {},
   "outputs": [],
   "source": [
    "learn.load('mlcnn_ecg1')"
   ]
  },
  {
   "cell_type": "code",
   "execution_count": null,
   "metadata": {},
   "outputs": [],
   "source": [
    "get_scores(learn)"
   ]
  }
 ],
 "metadata": {
  "kernelspec": {
   "display_name": "Python 3",
   "language": "python",
   "name": "python3"
  },
  "language_info": {
   "codemirror_mode": {
    "name": "ipython",
    "version": 3
   },
   "file_extension": ".py",
   "mimetype": "text/x-python",
   "name": "python",
   "nbconvert_exporter": "python",
   "pygments_lexer": "ipython3",
   "version": "3.6.5"
  }
 },
 "nbformat": 4,
 "nbformat_minor": 2
}
