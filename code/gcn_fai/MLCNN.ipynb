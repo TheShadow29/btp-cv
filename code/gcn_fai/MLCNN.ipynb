{
 "cells": [
  {
   "cell_type": "code",
   "execution_count": 1,
   "metadata": {},
   "outputs": [],
   "source": [
    "from all_imports import *"
   ]
  },
  {
   "cell_type": "code",
   "execution_count": 2,
   "metadata": {},
   "outputs": [],
   "source": [
    "%reload_ext autoreload\n",
    "%autoreload 2\n",
    "%matplotlib inline"
   ]
  },
  {
   "cell_type": "code",
   "execution_count": 3,
   "metadata": {},
   "outputs": [],
   "source": [
    "PATH = Path('/scratch/arka/Ark_git_files/ecg_data/')\n",
    "BPATH = PATH / 'beats_data'"
   ]
  },
  {
   "cell_type": "code",
   "execution_count": null,
   "metadata": {},
   "outputs": [],
   "source": [
    "def get_stats(tr_fnames):\n",
    "    l1 = []\n",
    "    for f in tqdm(tr_fnames):\n",
    "        l1.append(np.load(f)[0])\n",
    "    l1np = np.array(l1)\n",
    "    m1 = l1np.mean(axis=0).mean(axis=0)\n",
    "    l2np = np.square(l1np)\n",
    "    m2 = l2np.mean(axis=0).mean(axis=0)\n",
    "    return m1, np.sqrt(m2 - np.square(m1))\n"
   ]
  },
  {
   "cell_type": "code",
   "execution_count": 5,
   "metadata": {},
   "outputs": [],
   "source": [
    "stats = (np.array([-0.00045, -0.00065,  0.0002 ,  0.00053, -0.0004 , -0.00028,  0.00134,  0.00166,  0.00129,  0.00045,\n",
    "        -0.00055, -0.00075, -0.00051, -0.00046, -0.00091]),\n",
    " np.array([0.07205, 0.07793, 0.06985, 0.06643, 0.05931, 0.06463, 0.10812, 0.16106, 0.15547, 0.14078, 0.12046,\n",
    "        0.09665, 0.09572, 0.06398, 0.08093]))\n",
    "tfm_norm = Normalize(*stats, TfmType.NO)\n",
    "class PTBData(BaseDataset):\n",
    "    def __init__(self, tdir, csv_file, transform=None):\n",
    "        self.tdir = tdir\n",
    "        self.csv_file = csv_file\n",
    "        self.fnames, self.labels, self.classes = csv_source(self.tdir, self.csv_file, suffix='_beats.npy')\n",
    "        super().__init__(transform=transform)\n",
    "\n",
    "    \n",
    "    def get_n(self):\n",
    "        return len(self.fnames)\n",
    "    \n",
    "    def get_c(self):\n",
    "        return len(self.classes)\n",
    "    \n",
    "    def get_sz(self):\n",
    "        return 149\n",
    "    \n",
    "    def get_x(self, idx, pidx=None):\n",
    "        np_file = np.load(self.fnames[idx])\n",
    "        if pidx is None:\n",
    "            pidx = np.random.randint(np_file.shape[0])\n",
    "#         pdb.set_trace()\n",
    "        return np_file[pidx]\n",
    "\n",
    "    def get_y(self, idx):\n",
    "        return self.labels[idx]"
   ]
  },
  {
   "cell_type": "code",
   "execution_count": 33,
   "metadata": {},
   "outputs": [],
   "source": [
    "class PTBModelData(ImageData):\n",
    "    @classmethod\n",
    "    def from_dataset(cls, tdir, tmp_tdir, trn_csv, val_csv, test_csv, bs, num_workers, tfms=None):\n",
    "        trn_ds = PTBData(tdir, trn_csv, tfms)\n",
    "        val_ds = PTBData(tdir, val_csv, tfms)\n",
    "        fix_ds = PTBData(tdir, trn_csv, tfms)\n",
    "        aug_ds = PTBData(tdir, val_csv, tfms)\n",
    "        test_ds = PTBData(tdir, test_csv, tfms)\n",
    "        test_aug_ds = PTBData(tdir, test_csv, tfms)\n",
    "        res = [trn_ds, val_ds, fix_ds, aug_ds, test_ds, test_aug_ds]\n",
    "        return cls(tmp_tdir, res, bs, num_workers, classes=trn_ds.classes)"
   ]
  },
  {
   "cell_type": "code",
   "execution_count": 24,
   "metadata": {},
   "outputs": [],
   "source": [
    "trn_csv = PATH / 'train_only_labels.csv'\n",
    "val_csv = PATH / 'val_only_labels.csv'\n",
    "test_csv = PATH / 'test_only_labels.csv'"
   ]
  },
  {
   "cell_type": "code",
   "execution_count": 34,
   "metadata": {},
   "outputs": [],
   "source": [
    "data = PTBModelData.from_dataset(BPATH, PATH, trn_csv, val_csv, test_csv, bs=64, num_workers=4, tfms=tfm_norm)"
   ]
  }
 ],
 "metadata": {
  "kernelspec": {
   "display_name": "Python 3",
   "language": "python",
   "name": "python3"
  },
  "language_info": {
   "codemirror_mode": {
    "name": "ipython",
    "version": 3
   },
   "file_extension": ".py",
   "mimetype": "text/x-python",
   "name": "python",
   "nbconvert_exporter": "python",
   "pygments_lexer": "ipython3",
   "version": "3.6.5"
  }
 },
 "nbformat": 4,
 "nbformat_minor": 2
}
